{
  "nbformat": 4,
  "nbformat_minor": 0,
  "metadata": {
    "colab": {
      "provenance": [],
      "authorship_tag": "ABX9TyON87Kb3fD7Kj8hpIuM6MQS",
      "include_colab_link": true
    },
    "kernelspec": {
      "name": "python3",
      "display_name": "Python 3"
    },
    "language_info": {
      "name": "python"
    }
  },
  "cells": [
    {
      "cell_type": "markdown",
      "metadata": {
        "id": "view-in-github",
        "colab_type": "text"
      },
      "source": [
        "<a href=\"https://colab.research.google.com/github/techcomkathia/notasAulaPython/blob/main/Aula_3_Dicionarios_e_Sets.ipynb\" target=\"_parent\"><img src=\"https://colab.research.google.com/assets/colab-badge.svg\" alt=\"Open In Colab\"/></a>"
      ]
    },
    {
      "cell_type": "markdown",
      "source": [
        "#Revisão aula 02"
      ],
      "metadata": {
        "id": "brMvEXqCfL0L"
      }
    },
    {
      "cell_type": "code",
      "source": [
        "lista=[1,2,3,4,5]\n",
        "\n",
        "#operações básicas\n",
        "\n",
        "print(sum(lista))\n",
        "print(max(lista))\n",
        "print(min(lista))\n",
        "print(len(lista))\n",
        "\n",
        "# métodos para listas\n",
        "\n",
        "#adiciona um novo elemento no final\n",
        "lista.append(6)\n",
        "\n",
        "#adiciona um elemento em uma posição\n",
        "lista.insert(1,2)\n",
        "print(lista)\n",
        "\n",
        "#remove o ultimo valor\n",
        "lista.pop()\n",
        "\n",
        "#remove o valor da posiçãoo\n",
        "lista.pop(1)\n",
        "\n",
        "#remove um intervalo\n",
        "del lista[1:2]\n",
        "print(lista)\n",
        "\n",
        "#remove um valor específico\n",
        "lista.remove(4)\n",
        "print(lista)\n",
        "\n",
        "#sort ordena\n",
        "lista.sort()\n",
        "\n",
        "#clear limpa td lista\n",
        "lista.clear()"
      ],
      "metadata": {
        "id": "jd4T3ZtmfQxM"
      },
      "execution_count": null,
      "outputs": []
    },
    {
      "cell_type": "markdown",
      "source": [
        "#Aula 02\n"
      ],
      "metadata": {
        "id": "My10JQsbfJNL"
      }
    },
    {
      "cell_type": "code",
      "source": [
        "dadosPessoa = {\n",
        "    'nome': 'Káthia',\n",
        "    'idade': 28,\n",
        "    'email': 'kathia.karine2015@gmail.com',\n",
        "    'linguagens': ['Python', 'JavaScript', 'HTML/CSS']\n",
        "}\n",
        "\n",
        "print(dadosPessoa)"
      ],
      "metadata": {
        "colab": {
          "base_uri": "https://localhost:8080/"
        },
        "id": "cTCJJDy5vSmg",
        "outputId": "43e9eb8d-278c-44a0-9ce5-47d02d2faba0"
      },
      "execution_count": null,
      "outputs": [
        {
          "output_type": "stream",
          "name": "stdout",
          "text": [
            "{'nome': 'Káthia', 'idade': 28, 'email': 'kathia.karine2015@gmail.com', 'linguagens': ['Python', 'JavaScript', 'HTML/CSS']}\n"
          ]
        }
      ]
    },
    {
      "cell_type": "code",
      "source": [
        "#CRIAÇÃO DE UM DICIONÁRIO\n",
        "\n",
        "pessoa = {\n",
        "    \"nome\": \"Ana\",\n",
        "    \"idade\": 20\n",
        "}\n",
        "\n",
        "#acessando o valor guardado pela chave \"nome\"\n",
        "print(pessoa[\"nome\"])"
      ],
      "metadata": {
        "colab": {
          "base_uri": "https://localhost:8080/"
        },
        "id": "2Iub_5snqewh",
        "outputId": "4af923c3-bb87-427c-8024-8833e133abd8"
      },
      "execution_count": null,
      "outputs": [
        {
          "output_type": "stream",
          "name": "stdout",
          "text": [
            "Ana\n"
          ]
        }
      ]
    },
    {
      "cell_type": "code",
      "source": [
        "# CRIANDO UM DICIONÁRIO VAZIO\n",
        "\n",
        "turma ={}\n",
        "\n",
        "#adicionando um novo elemento\n",
        "turma[\"turno\"] = \"manhã\"\n",
        "turma[\"número\"] = 123\n",
        "\n",
        "print(turma)"
      ],
      "metadata": {
        "colab": {
          "base_uri": "https://localhost:8080/"
        },
        "id": "T4AVsC27rYWo",
        "outputId": "cd8d6302-2e43-448f-bc27-727992fda1a7"
      },
      "execution_count": null,
      "outputs": [
        {
          "output_type": "stream",
          "name": "stdout",
          "text": [
            "{'turno': 'manhã', 'número': 123}\n"
          ]
        }
      ]
    },
    {
      "cell_type": "code",
      "source": [
        "#list (retornando todas as chaves de um dicionário)\n",
        "\n",
        "print(list(dadosPessoa))"
      ],
      "metadata": {
        "colab": {
          "base_uri": "https://localhost:8080/"
        },
        "id": "zEo8YlGYvZfa",
        "outputId": "88714977-807b-4371-8290-c46ffe90ade3"
      },
      "execution_count": null,
      "outputs": [
        {
          "output_type": "stream",
          "name": "stdout",
          "text": [
            "['nome', 'idade', 'email', 'linguagens']\n"
          ]
        }
      ]
    },
    {
      "cell_type": "code",
      "source": [
        "#len retorna o número de itens de um dicionário\n",
        "\n",
        "print(len(dadosPessoa))"
      ],
      "metadata": {
        "colab": {
          "base_uri": "https://localhost:8080/"
        },
        "id": "5k66KcGDviEo",
        "outputId": "2c21cd8b-9db8-4562-d9c1-6e23fb8dc3be"
      },
      "execution_count": null,
      "outputs": [
        {
          "output_type": "stream",
          "name": "stdout",
          "text": [
            "4\n"
          ]
        }
      ]
    },
    {
      "cell_type": "code",
      "source": [
        "#retornando o valor de uma chave\n",
        "\n",
        "print(dadosPessoa[\"email\"])"
      ],
      "metadata": {
        "colab": {
          "base_uri": "https://localhost:8080/"
        },
        "id": "dUjth4FfwLk5",
        "outputId": "0c3437a9-3006-4293-f8da-9c5c33df2c8e"
      },
      "execution_count": null,
      "outputs": [
        {
          "output_type": "stream",
          "name": "stdout",
          "text": [
            "kathia.karine2015@gmail.com\n"
          ]
        }
      ]
    },
    {
      "cell_type": "markdown",
      "source": [
        "##Procurando uma chave que não existe\n"
      ],
      "metadata": {
        "id": "zoY65ZML5fTF"
      }
    },
    {
      "cell_type": "code",
      "source": [
        "# retorna o valor de erro de key\n",
        "\n",
        "# print(dadosPessoa[\"cpf\"])"
      ],
      "metadata": {
        "id": "c10jsfi5I0-1"
      },
      "execution_count": null,
      "outputs": []
    },
    {
      "cell_type": "code",
      "source": [
        "#get chave , evitando o erro KeyError\n",
        "\n",
        "print(dadosPessoa.get(\"cpf\",\"A chave procurada não existe\"))"
      ],
      "metadata": {
        "colab": {
          "base_uri": "https://localhost:8080/"
        },
        "id": "ZsH1-aNEIlAI",
        "outputId": "26ea41e5-49f1-438d-8ca7-195c11aef63c"
      },
      "execution_count": null,
      "outputs": [
        {
          "output_type": "stream",
          "name": "stdout",
          "text": [
            "A chave procurada não existe\n"
          ]
        }
      ]
    },
    {
      "cell_type": "code",
      "source": [
        "print(dadosPessoa.get(\"email\",\"A chave procurada não existe\"))"
      ],
      "metadata": {
        "colab": {
          "base_uri": "https://localhost:8080/"
        },
        "id": "gbA1AZAnJ_FT",
        "outputId": "924c9b73-dd32-42b5-a73c-fa5696561c9e"
      },
      "execution_count": null,
      "outputs": [
        {
          "output_type": "stream",
          "name": "stdout",
          "text": [
            "kathia.karine2015@gmail.com\n"
          ]
        }
      ]
    },
    {
      "cell_type": "code",
      "source": [
        "print(dadosPessoa.get(\"turno\",))"
      ],
      "metadata": {
        "colab": {
          "base_uri": "https://localhost:8080/"
        },
        "id": "XEDyKGI1KZ9p",
        "outputId": "48933242-0606-4285-8e04-311ab9f3de70"
      },
      "execution_count": null,
      "outputs": [
        {
          "output_type": "stream",
          "name": "stdout",
          "text": [
            "None\n"
          ]
        }
      ]
    },
    {
      "cell_type": "code",
      "source": [
        "print(dadosPessoa[\"idade\"])"
      ],
      "metadata": {
        "colab": {
          "base_uri": "https://localhost:8080/"
        },
        "id": "sCyBm_m5xKgR",
        "outputId": "dcccabe7-7604-43eb-8a39-dca039c52f62"
      },
      "execution_count": null,
      "outputs": [
        {
          "output_type": "stream",
          "name": "stdout",
          "text": [
            "28\n"
          ]
        }
      ]
    },
    {
      "cell_type": "code",
      "source": [
        "#alterando o valor de uma chave\n",
        "dadosPessoa[\"idade\"] = 29\n",
        "print(dadosPessoa[\"idade\"])"
      ],
      "metadata": {
        "colab": {
          "base_uri": "https://localhost:8080/"
        },
        "id": "IqIuQTxA6HWg",
        "outputId": "7e65e821-32ec-436a-fa46-604ae0b40836"
      },
      "execution_count": null,
      "outputs": [
        {
          "output_type": "stream",
          "name": "stdout",
          "text": [
            "29\n"
          ]
        }
      ]
    },
    {
      "cell_type": "code",
      "source": [
        "#inserindo uma nova chave e valor\n",
        "print(dadosPessoa)\n",
        "dadosPessoa[\"tipo sangue\"] = \"AB+\"\n",
        "print(dadosPessoa)\n"
      ],
      "metadata": {
        "colab": {
          "base_uri": "https://localhost:8080/"
        },
        "id": "aEGyP0R-6sSL",
        "outputId": "0bed3b8d-d1aa-4b20-a472-a39183ebde84"
      },
      "execution_count": null,
      "outputs": [
        {
          "output_type": "stream",
          "name": "stdout",
          "text": [
            "{'nome': 'Káthia', 'idade': 29, 'email': 'kathia.karine2015@gmail.com', 'linguagens': ['Python', 'JavaScript', 'HTML/CSS']}\n",
            "{'nome': 'Káthia', 'idade': 29, 'email': 'kathia.karine2015@gmail.com', 'linguagens': ['Python', 'JavaScript', 'HTML/CSS'], 'tipo sangue': 'AB+'}\n"
          ]
        }
      ]
    },
    {
      "cell_type": "code",
      "source": [
        "print(dadosPessoa)"
      ],
      "metadata": {
        "colab": {
          "base_uri": "https://localhost:8080/"
        },
        "id": "l5MRPaj77wwl",
        "outputId": "2a821d41-5ce8-47ef-8cb8-9d6ba9fe8841"
      },
      "execution_count": null,
      "outputs": [
        {
          "output_type": "stream",
          "name": "stdout",
          "text": [
            "{'nome': 'Káthia', 'idade': 29, 'email': 'kathia.karine2015@gmail.com', 'linguagens': ['Python', 'JavaScript', 'HTML/CSS'], 'tipo sangue': 'AB+'}\n"
          ]
        }
      ]
    },
    {
      "cell_type": "code",
      "source": [
        "del dadosPessoa['tipo sangue']\n",
        "print(dadosPessoa)"
      ],
      "metadata": {
        "colab": {
          "base_uri": "https://localhost:8080/"
        },
        "id": "ifAPwqNS_6uS",
        "outputId": "be50889e-30fe-4cd8-cab6-a2d27e4ee437"
      },
      "execution_count": null,
      "outputs": [
        {
          "output_type": "stream",
          "name": "stdout",
          "text": [
            "{'nome': 'Káthia', 'idade': 29, 'email': 'kathia.karine2015@gmail.com', 'linguagens': ['Python', 'JavaScript', 'HTML/CSS']}\n"
          ]
        }
      ]
    },
    {
      "cell_type": "code",
      "source": [
        "#deletar uma chave que não existe\n",
        "# del dadosPessoa['tipo sangue']"
      ],
      "metadata": {
        "id": "GZ6JrOwcAXH2"
      },
      "execution_count": null,
      "outputs": []
    },
    {
      "cell_type": "code",
      "source": [
        "#checar se um valor está no dicionário\n",
        "print('nome' in dadosPessoa)"
      ],
      "metadata": {
        "colab": {
          "base_uri": "https://localhost:8080/"
        },
        "id": "gE8PhomxBOUq",
        "outputId": "c0fb6199-000d-4024-e0d3-0985e0051b24"
      },
      "execution_count": null,
      "outputs": [
        {
          "output_type": "stream",
          "name": "stdout",
          "text": [
            "True\n"
          ]
        }
      ]
    },
    {
      "cell_type": "code",
      "source": [
        "# chegar se um valor NAO está no dicionário\n",
        "\n",
        "print('sobrenome' not in dadosPessoa)"
      ],
      "metadata": {
        "colab": {
          "base_uri": "https://localhost:8080/"
        },
        "id": "PPjqYdrcB8Nw",
        "outputId": "d78c906f-5ce2-45b0-893a-58bd784b068b"
      },
      "execution_count": null,
      "outputs": [
        {
          "output_type": "stream",
          "name": "stdout",
          "text": [
            "True\n"
          ]
        }
      ]
    },
    {
      "cell_type": "code",
      "source": [
        "print('nome' not in dadosPessoa)"
      ],
      "metadata": {
        "colab": {
          "base_uri": "https://localhost:8080/"
        },
        "id": "vq0L6Nk1COvH",
        "outputId": "ac474836-2e1a-425c-a5b8-dcd4a982d32f"
      },
      "execution_count": null,
      "outputs": [
        {
          "output_type": "stream",
          "name": "stdout",
          "text": [
            "False\n"
          ]
        }
      ]
    },
    {
      "cell_type": "code",
      "source": [
        "#criar uma cópia rasa\n",
        "\n",
        "turma1={'turno':'manhã', 'dia':'sábado'}\n",
        "print(turma1)\n",
        "turma2= turma1.copy()\n",
        "print(turma2)\n",
        "\n",
        "print( turma1, turma2, sep= '-------essa é uma cópia------->')"
      ],
      "metadata": {
        "colab": {
          "base_uri": "https://localhost:8080/"
        },
        "id": "9mTBIQmSDOMF",
        "outputId": "bd4afac2-5bd0-4ec7-c351-5cfceb66c302"
      },
      "execution_count": null,
      "outputs": [
        {
          "output_type": "stream",
          "name": "stdout",
          "text": [
            "{'turno': 'manhã', 'dia': 'sábado'}\n",
            "{'turno': 'manhã', 'dia': 'sábado'}\n",
            "{'turno': 'manhã', 'dia': 'sábado'}-------essa é uma cópia------->{'turno': 'manhã', 'dia': 'sábado'}\n"
          ]
        }
      ]
    },
    {
      "cell_type": "code",
      "source": [
        "#limpar um dicionário\n",
        "turma1={'turno':'manhã', 'dia':'sábado'}\n",
        "print(turma1)\n",
        "turma1.clear()\n",
        "print(turma1)"
      ],
      "metadata": {
        "colab": {
          "base_uri": "https://localhost:8080/"
        },
        "id": "_Cau6WR-Ew6z",
        "outputId": "46be737d-32e6-4575-8ba9-4840000a8bb3"
      },
      "execution_count": null,
      "outputs": [
        {
          "output_type": "stream",
          "name": "stdout",
          "text": [
            "{'turno': 'manhã', 'dia': 'sábado'}\n",
            "{}\n"
          ]
        }
      ]
    },
    {
      "cell_type": "code",
      "source": [
        "print( turma1, turma2, sep= '-------essa é uma cópia rasa------->')"
      ],
      "metadata": {
        "colab": {
          "base_uri": "https://localhost:8080/"
        },
        "id": "cb0e1GERFd5t",
        "outputId": "18c3213f-a58f-461f-d108-32cea6a515c4"
      },
      "execution_count": null,
      "outputs": [
        {
          "output_type": "stream",
          "name": "stdout",
          "text": [
            "{}-------essa é uma cópia rasa------->{'turno': 'manhã', 'dia': 'sábado'}\n"
          ]
        }
      ]
    },
    {
      "cell_type": "code",
      "source": [
        "#items() retrona uma lista de tuplas com os itens de um dicionário\n",
        "\n",
        "print(turma2.items())"
      ],
      "metadata": {
        "colab": {
          "base_uri": "https://localhost:8080/"
        },
        "id": "pjxUgE4cLZYc",
        "outputId": "ebc07a23-7261-437a-a55f-08d488984f8d"
      },
      "execution_count": null,
      "outputs": [
        {
          "output_type": "stream",
          "name": "stdout",
          "text": [
            "dict_items([('turno', 'manhã'), ('dia', 'sábado')])\n"
          ]
        }
      ]
    },
    {
      "cell_type": "code",
      "source": [
        "# printando os valores de um dicionário com a método items()\n",
        "\n",
        "for k , v in turma2.items():\n",
        "  print(f'Chave:{k} ----- valor:{v}')"
      ],
      "metadata": {
        "colab": {
          "base_uri": "https://localhost:8080/"
        },
        "id": "MycTeKLNL-zt",
        "outputId": "717d6bdf-abb9-495d-e898-3adc0e443ac8"
      },
      "execution_count": null,
      "outputs": [
        {
          "output_type": "stream",
          "name": "stdout",
          "text": [
            "Chave:turno ----- valor:manhã\n",
            "Chave:dia ----- valor:sábado\n"
          ]
        }
      ]
    },
    {
      "cell_type": "code",
      "source": [
        "# keys() retorna uma lista com as chaves de um dicionário\n",
        "\n",
        "infinity= {'unidade' : 'fortaleza', 'endereço':'Avenida Santos Dumont', 'turmas':[612, 654, 125]}\n",
        "print(infinity.keys())\n"
      ],
      "metadata": {
        "colab": {
          "base_uri": "https://localhost:8080/"
        },
        "id": "ONkXwm30OSI-",
        "outputId": "2cb629e7-eecc-4225-b8a3-981bda32591b"
      },
      "execution_count": null,
      "outputs": [
        {
          "output_type": "stream",
          "name": "stdout",
          "text": [
            "dict_keys(['unidade', 'endereço', 'turmas'])\n"
          ]
        }
      ]
    },
    {
      "cell_type": "code",
      "source": [
        "# printando os valores de um dicionário com a método keys()\n",
        "for chave in infinity.keys():\n",
        "  print(infinity[chave])"
      ],
      "metadata": {
        "colab": {
          "base_uri": "https://localhost:8080/"
        },
        "id": "OHL6U-mcQvnd",
        "outputId": "1aae6389-5535-4a5a-955d-51d672681db8"
      },
      "execution_count": null,
      "outputs": [
        {
          "output_type": "stream",
          "name": "stdout",
          "text": [
            "fortaleza\n",
            "Avenida Santos Dumont\n",
            "[612, 654, 125]\n"
          ]
        }
      ]
    },
    {
      "cell_type": "markdown",
      "source": [],
      "metadata": {
        "id": "dCNYH22EOv4S"
      }
    },
    {
      "cell_type": "markdown",
      "source": [
        "## EXERCÍCIOS"
      ],
      "metadata": {
        "id": "JoThMd9TqZsD"
      }
    },
    {
      "cell_type": "code",
      "execution_count": null,
      "metadata": {
        "id": "IWjuo7JjhwvU"
      },
      "outputs": [],
      "source": [
        "agenda = {}  # Criação do dicionário vazio para a agenda\n",
        "\n",
        "while True:\n",
        "    cpf = input(\"Digite o CPF (ou 'sair' para encerrar): \")\n",
        "    if cpf.lower() == \"sair\":\n",
        "        break\n",
        "\n",
        "    nome = input(\"Digite o nome: \")\n",
        "    idade = input(\"Digite a idade: \")\n",
        "    telefone = input(\"Digite o telefone: \")\n",
        "\n",
        "    agenda[cpf] = {\n",
        "        'nome': nome,\n",
        "        'idade': idade,\n",
        "        'telefone': telefone\n",
        "    }\n",
        "\n",
        "\n",
        "print(\"\\nAgenda:\")\n",
        "for cpf, dados in agenda.items():\n",
        "    print(f\"{cpf}: {dados['nome']}-{dados['idade']}-{dados['telefone']}\")\n"
      ]
    },
    {
      "cell_type": "markdown",
      "source": [
        "Crie um programa que cadastre informações de várias pessoas (nome, idade e cpf) depois coloque em um dicionário. Depois remova todas as pessoas menores de 18 anos do dicionário e coloque em outro dicionário.\n"
      ],
      "metadata": {
        "id": "XPQ3W9e1ipST"
      }
    },
    {
      "cell_type": "code",
      "source": [
        "cadastro = {}  # Dicionário para o cadastro de todas as pessoas\n",
        "menores_de_idade = {}  # Dicionário para as pessoas menores de 18 anos\n",
        "\n",
        "while True:\n",
        "    nome = input(\"Digite o nome da pessoa (ou 'sair' para encerrar o cadastro): \")\n",
        "    if nome.lower() == \"sair\":\n",
        "        break\n",
        "\n",
        "    idade = int(input(\"Digite a idade da pessoa: \"))\n",
        "    cpf = input(\"Digite o CPF da pessoa: \")\n",
        "\n",
        "    pessoa = {'nome': nome, 'idade': idade, 'cpf': cpf}\n",
        "\n",
        "    cadastro[cpf] = pessoa  # Adiciona a pessoa ao dicionário de cadastro\n",
        "\n",
        "    if idade < 18:\n",
        "        menores_de_idade[cpf] = pessoa  # Adiciona a pessoa ao dicionário de menores de idade\n",
        "\n",
        "print(\"\\nCadastro de todas as pessoas:\")\n",
        "for cpf, pessoa in cadastro.items():\n",
        "    print(f\"CPF: {cpf} | Nome: {pessoa['nome']} | Idade: {pessoa['idade']}\")\n",
        "\n",
        "print(\"\\nMenores de 18 anos:\")\n",
        "for cpf, pessoa in menores_de_idade.items():\n",
        "    print(f\"CPF: {cpf} | Nome: {pessoa['nome']} | Idade: {pessoa['idade']}\")\n"
      ],
      "metadata": {
        "id": "nl9h8qBEjKrW"
      },
      "execution_count": null,
      "outputs": []
    },
    {
      "cell_type": "markdown",
      "source": [
        "4. Considere um sistema onde os dados são armazenados em dicionários. Nesse sistema existe um dicionario principal e o dicionário de backup. Cada vez que o dicionário principal atinge tamanho 5, ele imprime os dados na tela e apaga o seu conteúdo. Crie um programa que insira dados em um dicionário, realizando o backup a cada dado e excluindo os dados do dicionário principal quando ele atingir tamanho 5."
      ],
      "metadata": {
        "id": "zNMcggF0jN3O"
      }
    },
    {
      "cell_type": "code",
      "source": [
        "dicionario_principal = {}  # Dicionário principal\n",
        "dicionario_backup = {}  # Dicionário de backup\n",
        "contador = 0  # Contador de elementos inseridos no dicionário principal\n",
        "\n",
        "while True:\n",
        "    chave = input(\"Digite a chave (ou 'sair' para encerrar): \")\n",
        "    if chave.lower() == \"sair\":\n",
        "        break\n",
        "\n",
        "    valor = input(\"Digite o valor: \")\n",
        "\n",
        "    dicionario_principal[chave] = valor  # Insere o dado no dicionário principal\n",
        "    dicionario_backup[chave] = valor  # Realiza o backup no dicionário de backup\n",
        "\n",
        "    contador += 1\n",
        "\n",
        "    if contador == 5:\n",
        "        print(\"Dados do dicionário principal:\")\n",
        "        for chave, valor in dicionario_principal.items():\n",
        "            print(f\"Chave: {chave} | Valor: {valor}\")\n",
        "\n",
        "        dicionario_principal = {}  # Limpa o dicionário principal\n",
        "        contador = 0  # Reseta o contador\n",
        "\n",
        "print(\"Dados finais do dicionário principal:\")\n",
        "for chave, valor in dicionario_principal.items():\n",
        "    print(f\"Chave: {chave} | Valor: {valor}\")\n",
        "\n",
        "print(\"Dados do dicionário de backup:\")\n",
        "for chave, valor in dicionario_backup.items():\n",
        "    print(f\"Chave: {chave} | Valor: {valor}\")"
      ],
      "metadata": {
        "id": "DIuG8FJJknsN"
      },
      "execution_count": null,
      "outputs": []
    }
  ]
}