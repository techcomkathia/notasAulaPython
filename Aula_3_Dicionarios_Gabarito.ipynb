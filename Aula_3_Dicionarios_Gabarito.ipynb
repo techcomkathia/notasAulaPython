{
  "nbformat": 4,
  "nbformat_minor": 0,
  "metadata": {
    "colab": {
      "provenance": [],
      "authorship_tag": "ABX9TyOyeFLQCNdR1Y6C1mpa//jZ",
      "include_colab_link": true
    },
    "kernelspec": {
      "name": "python3",
      "display_name": "Python 3"
    },
    "language_info": {
      "name": "python"
    }
  },
  "cells": [
    {
      "cell_type": "markdown",
      "metadata": {
        "id": "view-in-github",
        "colab_type": "text"
      },
      "source": [
        "<a href=\"https://colab.research.google.com/github/techcomkathia/notasAulaPython/blob/main/Aula_3_Dicionarios_Gabarito.ipynb\" target=\"_parent\"><img src=\"https://colab.research.google.com/assets/colab-badge.svg\" alt=\"Open In Colab\"/></a>"
      ]
    },
    {
      "cell_type": "markdown",
      "source": [
        "##Questão 1\n",
        "\n",
        " Crie um dicionário que recebe como chave o nome de 5 alunos, e os valores serão calculados com uma média de três notas.\n"
      ],
      "metadata": {
        "id": "9rP-ZwdzTqC4"
      }
    },
    {
      "cell_type": "code",
      "source": [
        "#Resolução 1\n",
        "alunos = dict()\n",
        "\n",
        "for i in range(2):\n",
        "    nome= input(\"Digite o seu nome: \")\n",
        "\n",
        "    n1 = float(input(\"Digite a primeira nota: \"))\n",
        "    n2 = float(input(\"Digite a segunda nota: \"))\n",
        "    n3 = float(input(\"Digite a terceira nota: \"))\n",
        "\n",
        "    notas=[n1, n2, n3]\n",
        "\n",
        "    media = sum(notas) / 3\n",
        "\n",
        "    alunos[nome] = float(f\"{media:.2f}\")\n",
        "\n",
        "print(alunos)\n",
        "print(alunos[\"Ana\"])\n"
      ],
      "metadata": {
        "id": "nlbJ6DZeT1bo"
      },
      "execution_count": null,
      "outputs": []
    },
    {
      "cell_type": "code",
      "source": [
        "#Resolução 2\n",
        "\n",
        "alunos = dict()\n",
        "\n",
        "for i in range(5):\n",
        "    nome = input(\"Digite o seu nome: \")\n",
        "    acumulador = 0\n",
        "\n",
        "    for j in range(3):\n",
        "        nota = float(input(f\"Digite a {j + 1}° nota: \"))\n",
        "        acumulador += nota\n",
        "\n",
        "    media = acumulador / 3\n",
        "\n",
        "    alunos[nome] = float(f\"{media:.2f}\")\n",
        "\n",
        "print(alunos)"
      ],
      "metadata": {
        "id": "xdRkK9EQT7oz"
      },
      "execution_count": null,
      "outputs": []
    },
    {
      "cell_type": "markdown",
      "source": [
        "##Questão 2\n",
        "Crie um dicionário d e coloque nele os dados fornecidos pelo usuário: nome, idade, telefone,endereço.\n",
        "\n",
        "Também usando d, imprima todos os itens do dicionário no formato\n",
        "chave : valor, ordenado pela chave\n",
        "*texto em itálico*"
      ],
      "metadata": {
        "id": "PsxCGEBJxtew"
      }
    },
    {
      "cell_type": "code",
      "source": [
        "#Resolução 1\n",
        "\n",
        "#criando um dicionário vazio\n",
        "d1 = {}\n",
        "\n",
        "\n",
        "# Adicionar os dados ao dicionário\n",
        "d1['nome'] = input(\"Digite o nome: \")\n",
        "d1['idade'] = input(\"Digite a idade: \")\n",
        "d1['telefone'] = input(\"Digite o telefone: \")\n",
        "d1['endereço'] = input(\"Digite o endereço: \")\n",
        "\n",
        "#printando cada chave do dicionário\n",
        "print(f\"Nome: {d1['nome']}\")\n",
        "print(f\"Idade: {d1['idade']}\")\n",
        "print(f\"Telefone: {d1['telefone']}\")\n",
        "print(f\"Endereço: {d1['endereço']}\")\n",
        "\n",
        "\n"
      ],
      "metadata": {
        "id": "OdLQpoUZ2C_o"
      },
      "execution_count": null,
      "outputs": []
    },
    {
      "cell_type": "code",
      "execution_count": null,
      "metadata": {
        "id": "P4XCPcgqxnbp"
      },
      "outputs": [],
      "source": [
        "#Resolução 2 - com laço de repetição\n",
        "\n",
        "#criando um dicionário com o construtor\n",
        "d2 = dict()\n",
        "\n",
        "\n",
        "# Adicionar os dados ao dicionário\n",
        "d2['nome'] = input(\"Digite o nome: \")\n",
        "d2['idade'] = input(\"Digite a idade: \")\n",
        "d2['telefone'] = input(\"Digite o telefone: \")\n",
        "d2['endereço'] = input(\"Digite o endereço: \")\n",
        "\n",
        "#criando uma lista com todas as chaves que temos\n",
        "chaves = list(d2)\n",
        "print(chaves)\n",
        "\n",
        "#retornando o tamanho o dicionário\n",
        "tamanho = len(d2)\n",
        "print(tamanho)\n",
        "\n",
        "#usando o tamanho do dicionário para iterar sob cada \"nome\" das chaves\n",
        "#guardados na lista chaves\n",
        "for i in range(tamanho):\n",
        "  print(f'{chaves[i]} : {d2[chaves[i]]}')\n"
      ]
    },
    {
      "cell_type": "markdown",
      "source": [
        "#DESAFIO\n",
        "\n",
        "Crie um sistema integrado para cadastro de pacientes num hospital, onde terá 3 opções de ação:\n",
        "\n",
        "1 - cadastrar paciente:\n",
        "terá como chave no dicionário um id que se auto incrementará ao cadastrar um novo paciente, e o valor será uma lista com as seguintes informações:\n",
        "nome, idade, peso e altura;\n",
        "\n",
        "\n",
        "2 - Ver todos os pacientes;\n",
        "\n",
        "3 - Apagar paciente;\n",
        "\n",
        "0 - Finalizar sistema.\n",
        "\n",
        "\n",
        "\n"
      ],
      "metadata": {
        "id": "k85lCpaFVLzA"
      }
    },
    {
      "cell_type": "code",
      "source": [
        "# DESAFIO 3 usando match case\n",
        "num_paciente = 1\n",
        "pacientes = dict()\n",
        "info = list()\n",
        "\n",
        "print(\"Bem vindo ao sistem médico.\")\n",
        "\n",
        "while True:\n",
        "    escolha = int(input(\"Digite uma das opções abaixo:\\n\"\n",
        "                        \"1 - Cadastrar novo paciente;\\n\"\n",
        "                        \"2 - Ver todos os pacientes;\\n\"\n",
        "                        \"3 - Apagar um paciente;\\n\"\n",
        "                        \"0 - Sair do sistema.\\n\"))\n",
        "\n",
        "    match escolha:\n",
        "        case 1:\n",
        "            nome = input(\"Digite o nome do paciente: \")\n",
        "            idade = int(input(\"Digite a idade do paciente: \"))\n",
        "            peso = float(input(\"Digite o peso do paciente: \"))\n",
        "            altura = float(input(\"Digite a altura do paciente: \"))\n",
        "\n",
        "            info= [f\"nome = {nome}\", f\"idade = {idade}\", f\"peso = {peso}\", f\"altura = {altura}\"]\n",
        "\n",
        "            pacientes[num_paciente] = info\n",
        "\n",
        "            num_paciente += 1\n",
        "\n",
        "            input(\"Cadastro feito com sucesso. Aperte enter para continuar...\")\n",
        "\n",
        "        case 2:\n",
        "            for i in pacientes:\n",
        "                print(f\"id: {i} - informações: {pacientes[i]}\")\n",
        "\n",
        "            input(\"Aperte enter para continuar...\")\n",
        "\n",
        "        case 3:\n",
        "            for i in pacientes:\n",
        "                print(f\"id: {i} - informações: {pacientes[i][0]}\")\n",
        "\n",
        "            id = int(input(\"Digite qual id quer apagar: \"))\n",
        "\n",
        "            pacientes.pop(id)\n",
        "\n",
        "            input(\"Paciente apagado com sucesso. Aperte enter para continuar...\")\n",
        "\n",
        "        case 0:\n",
        "            break\n",
        "\n",
        "    print(\"\\n\"* 20)"
      ],
      "metadata": {
        "id": "JWVx8L94dNjB"
      },
      "execution_count": null,
      "outputs": []
    },
    {
      "cell_type": "code",
      "source": [
        "# DESAFIO 3 usando if e elif\n",
        "num_paciente = 1\n",
        "pacientes = dict()\n",
        "info = list()\n",
        "\n",
        "print(\"Bem vindo ao sistema médico.\")\n",
        "\n",
        "while True:\n",
        "    escolha = int(input(\"Digite uma das opções abaixo:\\n\"\n",
        "                        \"1 - Cadastrar novo paciente;\\n\"\n",
        "                        \"2 - Ver todos os pacientes;\\n\"\n",
        "                        \"3 - Apagar um paciente;\\n\"\n",
        "                        \"0 - Sair do sistema.\\n\"))\n",
        "\n",
        "    if escolha == 1:\n",
        "        nome = input(\"Digite o nome do paciente: \")\n",
        "        idade = int(input(\"Digite a idade do paciente: \"))\n",
        "        peso = float(input(\"Digite o peso do paciente: \"))\n",
        "        altura = float(input(\"Digite a altura do paciente: \"))\n",
        "\n",
        "        info = [f\"nome = {nome}\", f\"idade = {idade}\", f\"peso = {peso}\", f\"altura = {altura}\"]\n",
        "\n",
        "        pacientes[num_paciente] = info\n",
        "\n",
        "        num_paciente += 1\n",
        "\n",
        "        input(\"Cadastro feito com sucesso. Aperte enter para continuar...\")\n",
        "\n",
        "    elif escolha == 2:\n",
        "        for i in pacientes:\n",
        "            print(f\"id: {i} - informações: {pacientes[i]}\")\n",
        "\n",
        "        input(\"Aperte enter para continuar...\")\n",
        "\n",
        "    elif escolha == 3:\n",
        "        for i in pacientes:\n",
        "            print(f\"id: {i} - informações: {pacientes[i][0]}\")\n",
        "\n",
        "        id = int(input(\"Digite qual id quer apagar: \"))\n",
        "\n",
        "        pacientes.pop(id)\n",
        "\n",
        "        input(\"Paciente apagado com sucesso. Aperte enter para continuar...\")\n",
        "\n",
        "    elif escolha == 0:\n",
        "        break\n",
        "\n",
        "    print(\"\\n\" * 20)\n"
      ],
      "metadata": {
        "id": "N9ecDrRCjW65"
      },
      "execution_count": null,
      "outputs": []
    }
  ]
}