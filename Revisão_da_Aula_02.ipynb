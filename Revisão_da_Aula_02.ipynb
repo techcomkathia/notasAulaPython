{
  "nbformat": 4,
  "nbformat_minor": 0,
  "metadata": {
    "colab": {
      "provenance": [],
      "authorship_tag": "ABX9TyPdVZz6AB7Ki5eUZU2MF2rS",
      "include_colab_link": true
    },
    "kernelspec": {
      "name": "python3",
      "display_name": "Python 3"
    },
    "language_info": {
      "name": "python"
    }
  },
  "cells": [
    {
      "cell_type": "markdown",
      "metadata": {
        "id": "view-in-github",
        "colab_type": "text"
      },
      "source": [
        "<a href=\"https://colab.research.google.com/github/techcomkathia/notasAulaPython/blob/main/Revis%C3%A3o_da_Aula_02.ipynb\" target=\"_parent\"><img src=\"https://colab.research.google.com/assets/colab-badge.svg\" alt=\"Open In Colab\"/></a>"
      ]
    },
    {
      "cell_type": "code",
      "execution_count": null,
      "metadata": {
        "colab": {
          "base_uri": "https://localhost:8080/"
        },
        "id": "Pma-4lt9zMQ3",
        "outputId": "8d5f8be3-9c43-413a-fa3d-0bb613b2ac39"
      },
      "outputs": [
        {
          "output_type": "stream",
          "name": "stdout",
          "text": [
            "Ana\n"
          ]
        }
      ],
      "source": [
        "x =\"Ana\"\n",
        "print(x)"
      ]
    },
    {
      "cell_type": "code",
      "source": [
        "lista=[x, \"Tarde\", 15]\n",
        "print(lista[0])"
      ],
      "metadata": {
        "colab": {
          "base_uri": "https://localhost:8080/"
        },
        "id": "IZ94qe32zaB6",
        "outputId": "8c66d448-7ab3-4b68-ddfe-f70dff2c3880"
      },
      "execution_count": null,
      "outputs": [
        {
          "output_type": "stream",
          "name": "stdout",
          "text": [
            "Ana\n"
          ]
        }
      ]
    },
    {
      "cell_type": "code",
      "source": [
        "lista[0]= \"João\"\n",
        "\n",
        "print(lista[0])"
      ],
      "metadata": {
        "colab": {
          "base_uri": "https://localhost:8080/"
        },
        "id": "PtIMNu9Jz0tR",
        "outputId": "3030d6eb-7eaa-4797-9189-afd8258576e1"
      },
      "execution_count": null,
      "outputs": [
        {
          "output_type": "stream",
          "name": "stdout",
          "text": [
            "João\n"
          ]
        }
      ]
    },
    {
      "cell_type": "code",
      "source": [
        "tupla=(1, 2, 3)\n",
        "print(tupla[-1])"
      ],
      "metadata": {
        "colab": {
          "base_uri": "https://localhost:8080/"
        },
        "id": "NQR88nqz0DuS",
        "outputId": "8f60eb79-e266-420d-ad45-2627de87958c"
      },
      "execution_count": null,
      "outputs": [
        {
          "output_type": "stream",
          "name": "stdout",
          "text": [
            "3\n"
          ]
        }
      ]
    },
    {
      "cell_type": "code",
      "source": [
        "tupla[0] = \"editado\""
      ],
      "metadata": {
        "colab": {
          "base_uri": "https://localhost:8080/",
          "height": 166
        },
        "id": "BB1hoYPW0Vl3",
        "outputId": "46be1e52-3f4e-447d-f21b-fbfa34ae479d"
      },
      "execution_count": null,
      "outputs": [
        {
          "output_type": "error",
          "ename": "TypeError",
          "evalue": "ignored",
          "traceback": [
            "\u001b[0;31m---------------------------------------------------------------------------\u001b[0m",
            "\u001b[0;31mTypeError\u001b[0m                                 Traceback (most recent call last)",
            "\u001b[0;32m<ipython-input-7-0a24260596c5>\u001b[0m in \u001b[0;36m<cell line: 1>\u001b[0;34m()\u001b[0m\n\u001b[0;32m----> 1\u001b[0;31m \u001b[0mtupla\u001b[0m\u001b[0;34m[\u001b[0m\u001b[0;36m0\u001b[0m\u001b[0;34m]\u001b[0m \u001b[0;34m=\u001b[0m \u001b[0;34m\"editado\"\u001b[0m\u001b[0;34m\u001b[0m\u001b[0;34m\u001b[0m\u001b[0m\n\u001b[0m",
            "\u001b[0;31mTypeError\u001b[0m: 'tuple' object does not support item assignment"
          ]
        }
      ]
    },
    {
      "cell_type": "code",
      "source": [
        "x = sum(tupla)\n",
        "print(x)"
      ],
      "metadata": {
        "colab": {
          "base_uri": "https://localhost:8080/"
        },
        "id": "vbmUjsoM0gNu",
        "outputId": "e397b53b-980f-49b3-d5a2-433575a7370c"
      },
      "execution_count": null,
      "outputs": [
        {
          "output_type": "stream",
          "name": "stdout",
          "text": [
            "6\n"
          ]
        }
      ]
    },
    {
      "cell_type": "code",
      "source": [
        "tupla2 =(\"Ana\", 3, \"AnaMaria\")\n",
        "# y= max(tupla2)\n",
        "print(y)"
      ],
      "metadata": {
        "colab": {
          "base_uri": "https://localhost:8080/"
        },
        "id": "KJVr556B0ryF",
        "outputId": "bb7b2df8-dd87-4d0f-8cff-a9450c5b10e0"
      },
      "execution_count": null,
      "outputs": [
        {
          "output_type": "stream",
          "name": "stdout",
          "text": [
            "Paulo\n"
          ]
        }
      ]
    },
    {
      "cell_type": "code",
      "source": [
        "print(len(tupla2))"
      ],
      "metadata": {
        "colab": {
          "base_uri": "https://localhost:8080/"
        },
        "id": "l7vb4bzn1IrD",
        "outputId": "55afd092-adce-44f2-e2fa-debf08df637e"
      },
      "execution_count": null,
      "outputs": [
        {
          "output_type": "stream",
          "name": "stdout",
          "text": [
            "3\n"
          ]
        }
      ]
    },
    {
      "cell_type": "markdown",
      "source": [
        "##Dicionários"
      ],
      "metadata": {
        "id": "GAHcXN-b3mVb"
      }
    },
    {
      "cell_type": "code",
      "source": [
        "tupla1 =(\"nome\", \"Ana\")\n",
        "tupla2 =(\"turma\", 156)\n",
        "\n",
        "aluno = dict([tupla1, tupla2])\n",
        "print(aluno)"
      ],
      "metadata": {
        "colab": {
          "base_uri": "https://localhost:8080/"
        },
        "id": "LeanduQl3l76",
        "outputId": "ca9d72ca-9488-46b1-fd80-5c99c32fc989"
      },
      "execution_count": null,
      "outputs": [
        {
          "output_type": "stream",
          "name": "stdout",
          "text": [
            "{'nome': 'Ana', 'turma': 156}\n"
          ]
        }
      ]
    },
    {
      "cell_type": "code",
      "source": [
        "print(aluno[\"nome\"])"
      ],
      "metadata": {
        "colab": {
          "base_uri": "https://localhost:8080/"
        },
        "id": "_TPUwhjf4mOh",
        "outputId": "97861162-f7cf-4b49-fd91-8ee73b734cc5"
      },
      "execution_count": null,
      "outputs": [
        {
          "output_type": "stream",
          "name": "stdout",
          "text": [
            "Ana\n"
          ]
        }
      ]
    },
    {
      "cell_type": "code",
      "source": [
        "dadosPessoa = {\n",
        "    'nome': 'Káthia',\n",
        "    'idade': 28,\n",
        "    'email': 'kathia.karine2015@gmail.com',\n",
        "    'linguagens': ['Python', 'JavaScript', 'HTML/CSS']\n",
        "}\n",
        "print(f'Nome: {dadosPessoa[\"nome\"]}')"
      ],
      "metadata": {
        "colab": {
          "base_uri": "https://localhost:8080/"
        },
        "id": "3ew5eK3X_hE3",
        "outputId": "513d356c-411f-4aa9-ea83-3180130d387e"
      },
      "execution_count": null,
      "outputs": [
        {
          "output_type": "stream",
          "name": "stdout",
          "text": [
            "Nome: Káthia\n"
          ]
        }
      ]
    },
    {
      "cell_type": "code",
      "source": [
        "lista1 ={\"nome\": \" turma1\", \"horário\": \"7:30\"}\n",
        "\n",
        "copiaLista1 = lista1\n",
        "print(copiaLista1)\n",
        "copiaRasaLista1 = lista1.copy()\n",
        "print(copiaRasaLista1)\n",
        "\n",
        "lista1.clear()\n",
        "\n",
        "print(copiaLista1)\n",
        "print(copiaRasaLista1)"
      ],
      "metadata": {
        "colab": {
          "base_uri": "https://localhost:8080/"
        },
        "id": "dpjOK6LAU-Gu",
        "outputId": "c638b217-1f1e-4fc2-c4f7-175448610bd7"
      },
      "execution_count": null,
      "outputs": [
        {
          "output_type": "stream",
          "name": "stdout",
          "text": [
            "{'nome': ' turma1', 'horário': '7:30'}\n",
            "{'nome': ' turma1', 'horário': '7:30'}\n",
            "{}\n",
            "{'nome': ' turma1', 'horário': '7:30'}\n"
          ]
        }
      ]
    }
  ]
}