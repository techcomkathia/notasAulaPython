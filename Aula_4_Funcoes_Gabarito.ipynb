{
  "nbformat": 4,
  "nbformat_minor": 0,
  "metadata": {
    "colab": {
      "provenance": [],
      "authorship_tag": "ABX9TyNgGCNvFOe/MR/q2HWo3joe",
      "include_colab_link": true
    },
    "kernelspec": {
      "name": "python3",
      "display_name": "Python 3"
    },
    "language_info": {
      "name": "python"
    }
  },
  "cells": [
    {
      "cell_type": "markdown",
      "metadata": {
        "id": "view-in-github",
        "colab_type": "text"
      },
      "source": [
        "<a href=\"https://colab.research.google.com/github/techcomkathia/notasAulaPython/blob/main/Aula_4_Funcoes_Gabarito.ipynb\" target=\"_parent\"><img src=\"https://colab.research.google.com/assets/colab-badge.svg\" alt=\"Open In Colab\"/></a>"
      ]
    },
    {
      "cell_type": "markdown",
      "source": [
        "##1. Crie uma função que recebe três números como parâmetro e retorne o maior deles."
      ],
      "metadata": {
        "id": "rTkj4MeEw8tI"
      }
    },
    {
      "cell_type": "code",
      "execution_count": null,
      "metadata": {
        "id": "zG3JgI8xwHMh",
        "colab": {
          "base_uri": "https://localhost:8080/"
        },
        "outputId": "e8ec0610-1542-4c17-cd90-d014093aa46f"
      },
      "outputs": [
        {
          "output_type": "stream",
          "name": "stdout",
          "text": [
            "9\n"
          ]
        }
      ],
      "source": [
        "def encontrar_maior(a, b, c):\n",
        "    maior = a\n",
        "    if b > maior:\n",
        "        maior = b\n",
        "    if c > maior:\n",
        "        maior = c\n",
        "    return maior\n",
        "\n",
        "\n",
        "\n",
        "x= 5\n",
        "y= 6\n",
        "z= 7\n",
        "\n",
        "print(encontrar_maior(0,5,9))"
      ]
    },
    {
      "cell_type": "markdown",
      "source": [
        "##2. Faça um programa, com uma função que necessite de um argumento. A função retorna o valor de caractere ‘P’, se seu argumento for positivo, e ‘N’, se seu argumento for zero ou negativo."
      ],
      "metadata": {
        "id": "eJOAVxGlxEr7"
      }
    },
    {
      "cell_type": "code",
      "source": [
        "def verificar_valor(numero):\n",
        "    if numero > 0:\n",
        "        return 'P'\n",
        "    else:\n",
        "        return 'N'"
      ],
      "metadata": {
        "id": "3v-UhiSjxD5l"
      },
      "execution_count": null,
      "outputs": []
    },
    {
      "cell_type": "code",
      "source": [
        "print(verificar_valor(-52))"
      ],
      "metadata": {
        "colab": {
          "base_uri": "https://localhost:8080/"
        },
        "id": "DHxU_8qMC97l",
        "outputId": "fd730a54-081c-4e53-dd19-078faa16bbc3"
      },
      "execution_count": null,
      "outputs": [
        {
          "output_type": "stream",
          "name": "stdout",
          "text": [
            "N\n"
          ]
        }
      ]
    },
    {
      "cell_type": "markdown",
      "source": [
        "##EXTRA\n",
        "\n",
        "Converter hora no formato 24h para formato de 12h"
      ],
      "metadata": {
        "id": "ZHG1rFlUBcVA"
      }
    },
    {
      "cell_type": "code",
      "source": [
        "\n",
        "def converter_horario(h, m):\n",
        "\n",
        "    sufixo=\"A.M\"\n",
        "\n",
        "    if h >= 0 and h <= 23 and m>=0 and m<=59:\n",
        "        if h < 12:\n",
        "            sufixo = \"A.M.\"\n",
        "            if h == 0:\n",
        "               h = 12\n",
        "               sufixo=\"P.M\"\n",
        "        else:\n",
        "            sufixo = \"P.M.\"\n",
        "            h -= 12\n",
        "\n",
        "        horaConvert = f\"{h}:{m} {sufixo}\"\n",
        "        return horaConvert\n",
        "    else:\n",
        "        return \"A hora deve estar no intervalo de 0 a 23.Os minutos devem estar no intervalo de 0 a 59.\"\n",
        "\n",
        "\n",
        "print(converter_horario(22,78))"
      ],
      "metadata": {
        "id": "9NIyAz7gBTVd",
        "colab": {
          "base_uri": "https://localhost:8080/"
        },
        "outputId": "fad9f4f6-aaee-4317-bef2-fb364ca51093"
      },
      "execution_count": null,
      "outputs": [
        {
          "output_type": "stream",
          "name": "stdout",
          "text": [
            "A hora deve estar no intervalo de 0 a 23.Os minutos devem estar no intervalo de 0 a 59.\n"
          ]
        }
      ]
    },
    {
      "cell_type": "markdown",
      "source": [
        "\n",
        "##3. Crie uma função que recebe um número em em graus Fahrenheit (F) para Celsius (C).\n",
        "\n",
        "A função deve conter a descrição de entrada, de retorno e do que ela faz.\n",
        "\n",
        "Dica: para converter uma temperatura em F para C, subtraia 32 da temperatura e multiplique o resultado por 0,5556 (ou 5/9).\n"
      ],
      "metadata": {
        "id": "gj2W2xwj9bS0"
      }
    },
    {
      "cell_type": "code",
      "source": [
        "def tempFparaC(tempF: int) -> float:\n",
        "    '''  Converte uma temperatura de graus Fahrenheit (F) para Celsius (C).\n",
        "    Parametros: int\n",
        "    retorno: float '''\n",
        "\n",
        "    return round((tempF - 32) * (5/9), 2)\n",
        "\n",
        "\n",
        "print(tempFparaC(100.1))"
      ],
      "metadata": {
        "id": "OAo6lmF79ZyI",
        "colab": {
          "base_uri": "https://localhost:8080/"
        },
        "outputId": "e8300dca-4060-47e9-cc32-9f9a370a91c1"
      },
      "execution_count": null,
      "outputs": [
        {
          "output_type": "stream",
          "name": "stdout",
          "text": [
            "37.83\n"
          ]
        }
      ]
    },
    {
      "cell_type": "markdown",
      "source": [
        "##4. Crie uma função para calcular o IMC de 4 pessoas.\n",
        "\n",
        "\n",
        "Atenção: Use as seguintes estruturas:\n",
        "-laço de repetição\n",
        "-listas\n",
        "\n",
        "\n",
        "IMC = peso / altura ** 2\n"
      ],
      "metadata": {
        "id": "SDo8ytRVxyQb"
      }
    },
    {
      "cell_type": "code",
      "source": [
        "def calcular_IMC(pesos, alturas):\n",
        "    listaImcs = []\n",
        "\n",
        "\n",
        "    for i in range(len(pesos)):\n",
        "        imc = pesos[i] / (alturas[i] ** 2)\n",
        "        listaImcs.append(imc)\n",
        "\n",
        "\n",
        "    return listaImcs\n",
        "\n",
        "pesos = [70, 65, 80, 75]\n",
        "alturas = [1.75, 1.68, 1.80, 1.72]\n",
        "\n",
        "resultados_IMC = calcular_IMC(pesos, alturas)\n",
        "\n",
        "for i in range(len(resultados_IMC)):\n",
        "    print(f'Pessoa {i+1} : {resultados_IMC[i]}')"
      ],
      "metadata": {
        "colab": {
          "base_uri": "https://localhost:8080/"
        },
        "id": "1pLPmax4w5_M",
        "outputId": "be37d289-9034-4ca0-fb34-9a3223639ab2"
      },
      "execution_count": null,
      "outputs": [
        {
          "output_type": "stream",
          "name": "stdout",
          "text": [
            "Pessoa 1 : 22.857142857142858\n",
            "Pessoa 2 : 23.030045351473927\n",
            "Pessoa 3 : 24.691358024691358\n",
            "Pessoa 4 : 25.351541373715524\n"
          ]
        }
      ]
    },
    {
      "cell_type": "markdown",
      "source": [
        "##5. Uma escola tem duas possibilidades de cálculo de média: ponderada ou aritmética.\n",
        "\n",
        "Para a média aritmética , são consideradas 4 notas.\n",
        "\n",
        "Para a média ponderada, também são 4 notas. A segunda e a quarta nota, têm peso 2.\n",
        "\n",
        "Você deve construir uma função para cada uma. Elas serão utilizadas em uma terceira função. A terceira função deve receber 5 parâmetros, 4 notas e a escolha do tipo de média.\n"
      ],
      "metadata": {
        "id": "DKmBSdUO4v-L"
      }
    },
    {
      "cell_type": "code",
      "source": [
        "def media_aritmetica(notas):\n",
        "    return sum(notas) / len(notas)\n",
        "\n",
        "def media_ponderada(notas):\n",
        "    pesos = [1, 2, 1, 2]\n",
        "    soma_pesos = sum(pesos)\n",
        "    soma_ponderada = 0\n",
        "\n",
        "    for i in range(len(notas)):\n",
        "        soma_ponderada += notas[i] * pesos[i]\n",
        "\n",
        "    return soma_ponderada / soma_pesos\n",
        "\n",
        "def calcular_media(notas, tipo_media):\n",
        "  if tipo_media == 1:\n",
        "      return round(media_aritmetica(notas), 2)\n",
        "  elif tipo_media == 2:\n",
        "      return round(media_ponderada(notas), 2)\n",
        "  else:\n",
        "      raise ValueError(\"Tipo de média inválido. Escolha entre 'aritmetica -> 1 ' e 'ponderada -> 2'.\")\n",
        "\n",
        "notas = []\n",
        "for i in range(4):\n",
        "    nota = float(input(f\"Digite a nota {i+1}: \"))\n",
        "    notas.append(nota)\n",
        "\n",
        "tipo_media = int(input(\"Escolha o tipo de média: Para aritmética digite 1 / Para ponderada digite 2: \"))\n",
        "\n",
        "print(f\"A média é {calcular_media(notas, tipo_media)}\")\n"
      ],
      "metadata": {
        "id": "M2V1HQpK4vQG"
      },
      "execution_count": null,
      "outputs": []
    },
    {
      "cell_type": "markdown",
      "source": [
        "##6. Faça programa de uma calculadora, que recebe dois números e uma função como parâmetros. Sua calculadora deve conter as 4 operações básicas."
      ],
      "metadata": {
        "id": "5xBN6HYE2Naf"
      }
    },
    {
      "cell_type": "code",
      "source": [
        "def adicao(a: float, b: float) -> float:\n",
        "    \"\"\"Realiza a adição de dois números.\"\"\"\n",
        "    return a + b\n",
        "\n",
        "def subtracao(a: float, b: float) -> float:\n",
        "    \"\"\"Realiza a subtração de dois números.\"\"\"\n",
        "    return a - b\n",
        "\n",
        "def multiplicacao(a: float, b: float) -> float:\n",
        "    \"\"\"Realiza a multiplicação de dois números.\"\"\"\n",
        "    return a * b\n",
        "\n",
        "def divisao(a: float, b: float) -> float:\n",
        "    \"\"\"Realiza a divisão de dois números.\"\"\"\n",
        "    if b != 0:\n",
        "        return a / b\n",
        "    else:\n",
        "        raise ValueError(\"Divisão por zero não é permitida.\")\n",
        "\n",
        "def calculadora(num1: float, num2: float, operacao: str) -> None:\n",
        "    \"\"\"\n",
        "    Realiza uma operação matemática entre dois números.\n",
        "\n",
        "    Parâmetros:\n",
        "    num1 (float): O primeiro número.\n",
        "    num2 (float): O segundo número.\n",
        "    operacao (str): A operação a ser realizada. Pode ser \"+\", \"-\", \"*\" ou \"/\".\n",
        "\n",
        "    Retorna:\n",
        "    None\n",
        "    \"\"\"\n",
        "    if operacao == \"+\":\n",
        "        resultado = adicao(num1, num2)\n",
        "    elif operacao == \"-\":\n",
        "        resultado = subtracao(num1, num2)\n",
        "    elif operacao == \"*\":\n",
        "        resultado = multiplicacao(num1, num2)\n",
        "    elif operacao == \"/\":\n",
        "        resultado = divisao(num1, num2)\n",
        "    else:\n",
        "        raise ValueError(\"Operação inválida.\")\n",
        "\n",
        "    print(\"O resultado da operação é:\", resultado)\n",
        "\n",
        "\n",
        "calculadora(1, 2, \"l\")"
      ],
      "metadata": {
        "id": "OoWtmxaw2CoV"
      },
      "execution_count": null,
      "outputs": []
    }
  ]
}