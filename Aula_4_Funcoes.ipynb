{
  "nbformat": 4,
  "nbformat_minor": 0,
  "metadata": {
    "colab": {
      "provenance": [],
      "authorship_tag": "ABX9TyMx1bbv7oLWyfxl26buLQm7",
      "include_colab_link": true
    },
    "kernelspec": {
      "name": "python3",
      "display_name": "Python 3"
    },
    "language_info": {
      "name": "python"
    }
  },
  "cells": [
    {
      "cell_type": "markdown",
      "metadata": {
        "id": "view-in-github",
        "colab_type": "text"
      },
      "source": [
        "<a href=\"https://colab.research.google.com/github/techcomkathia/notasAulaPython/blob/main/Aula_4_Funcoes.ipynb\" target=\"_parent\"><img src=\"https://colab.research.google.com/assets/colab-badge.svg\" alt=\"Open In Colab\"/></a>"
      ]
    },
    {
      "cell_type": "code",
      "execution_count": null,
      "metadata": {
        "colab": {
          "base_uri": "https://localhost:8080/"
        },
        "id": "a3bDtbj84ku4",
        "outputId": "6ce84dd9-9a12-4242-e284-e1f3d96aaad7"
      },
      "outputs": [
        {
          "output_type": "stream",
          "name": "stdout",
          "text": [
            "o sol já nasceu lá na fazendinha\n"
          ]
        }
      ],
      "source": [
        "##parâmetros de uma função\n",
        "\n",
        "def bomDia():\n",
        "  return \"o sol já nasceu lá na fazendinha\"\n",
        "\n",
        "print(bomDia())"
      ]
    },
    {
      "cell_type": "code",
      "source": [
        "#valor padrão para função\n",
        "def bomDiaNome(nome = 'Pessoinha'):\n",
        "  print(f'bom dia {nome}')\n",
        "\n",
        "#na ausência do parâmetro, a função utiliza o valor padrão definido\n",
        "bomDiaNome()"
      ],
      "metadata": {
        "colab": {
          "base_uri": "https://localhost:8080/"
        },
        "id": "yZonaeY25F47",
        "outputId": "b0fa972a-6d70-43d2-c2be-6844c213ca46"
      },
      "execution_count": null,
      "outputs": [
        {
          "output_type": "stream",
          "name": "stdout",
          "text": [
            "bom dia Pessoinha\n"
          ]
        }
      ]
    },
    {
      "cell_type": "code",
      "source": [
        "#retorno de uma função \"sem retorno\"\n",
        "#toda função retorna alguma coisa, caso não exista a declaração de um return\n",
        "#dentro do corpo da função (no caso do print) a função retornará None ao ser associada\n",
        "#com outra função que precise de um retorno\n",
        "print(bomDiaNome())"
      ],
      "metadata": {
        "colab": {
          "base_uri": "https://localhost:8080/"
        },
        "id": "AoOcvkhE5ycA",
        "outputId": "40842eb1-5f9f-4798-cdeb-47db56a7c940"
      },
      "execution_count": null,
      "outputs": [
        {
          "output_type": "stream",
          "name": "stdout",
          "text": [
            "bom dia Pessoinha\n",
            "None\n"
          ]
        }
      ]
    },
    {
      "cell_type": "code",
      "source": [
        "#annotations\n",
        "def somar(n1: int , n2: int =0)-> float:\n",
        "  #Docstring\n",
        "  ''' Esta função recebe dois inteiros\n",
        "  e soma seus valores, retornando um inteiro'''\n",
        "  return(n1+n2)\n",
        "\n",
        "print(somar(1))\n"
      ],
      "metadata": {
        "colab": {
          "base_uri": "https://localhost:8080/"
        },
        "id": "HtjpOJXD5_2n",
        "outputId": "67a4351f-5947-4ed5-83fd-b4a01a102a2a"
      },
      "execution_count": null,
      "outputs": [
        {
          "output_type": "stream",
          "name": "stdout",
          "text": [
            "1\n"
          ]
        }
      ]
    },
    {
      "cell_type": "code",
      "source": [
        "print(somar())"
      ],
      "metadata": {
        "colab": {
          "base_uri": "https://localhost:8080/"
        },
        "id": "oVAQNvFdEMpa",
        "outputId": "e1481117-e860-486f-8fcf-01fd5eb1fef0"
      },
      "execution_count": null,
      "outputs": [
        {
          "output_type": "stream",
          "name": "stdout",
          "text": [
            "KathiaKarine\n"
          ]
        }
      ]
    },
    {
      "cell_type": "code",
      "source": [
        "#PARÂMETROS POSICIONAIS\n",
        "#Os valores passados como parâmetros de uma função serão usados de forma\n",
        "#posicional, obedecendo a ordem que eles foram definidos.\n",
        "def funcionario(nome, cargo):\n",
        "  print(f'{nome} é {cargo} na empresa Infinty')\n",
        "\n",
        "funcionario('Professor',8)"
      ],
      "metadata": {
        "colab": {
          "base_uri": "https://localhost:8080/"
        },
        "id": "rJMTDNLfLElK",
        "outputId": "def616e5-484e-4a1e-9479-e5c6f976a461"
      },
      "execution_count": null,
      "outputs": [
        {
          "output_type": "stream",
          "name": "stdout",
          "text": [
            "Professor é 8 na empresa Infinty\n"
          ]
        }
      ]
    },
    {
      "cell_type": "code",
      "source": [
        "#para evitar erros de \"entrada\" de dados, podemos usar o Docstring\n",
        "#os annotations\n",
        "\n",
        "\n",
        "def funcionario(nome: str, cargo:str)->str:#annotations\n",
        "\n",
        " #Docstring\n",
        "  '''A função printa uma string formatada com o nome e o cargo do funcionário\n",
        "  Parâmetros:\n",
        "  nome: str, entrada do nome do funcionário\n",
        "  cargo: str, entrada do cargo do funcionário'''\n",
        "\n",
        "  print(f'{nome} é {cargo} na empresa Infinty')\n",
        "\n",
        "funcionario('Káthia','professora')"
      ],
      "metadata": {
        "colab": {
          "base_uri": "https://localhost:8080/"
        },
        "id": "0GfFezCqdhEN",
        "outputId": "fcec6458-7edd-4c73-e1b6-330ced777c8a"
      },
      "execution_count": null,
      "outputs": [
        {
          "output_type": "stream",
          "name": "stdout",
          "text": [
            "Káthia é professora na empresa Infinty\n"
          ]
        }
      ]
    },
    {
      "cell_type": "code",
      "source": [
        "#usando uma função como parâmetro para outra função\n",
        "\n",
        "def emRecife():\n",
        "  return \"Ei Boy!\"\n",
        "\n",
        "def emFortal():\n",
        "  return \"Ei maaaaah!\"\n",
        "\n",
        "#invocação da função dentro de outra\n",
        "def falarComAlguem(nome):\n",
        "  #invocação da função dentro do print formatado\n",
        "  return f'{nome} {emFortal()}'\n",
        "\n",
        "print(falarComAlguem(\"João\"))\n",
        "\n",
        "\n",
        "#função como parâmtro\n",
        "\n",
        "#nome da função apenas como parâmetro, sem os parênteses\n",
        "def falarComAlguemLugar(nome, funcaoDoLugar):\n",
        "  #parênteses dentro do return para invocar a função e utilizar o seu retorno\n",
        "  return f'{nome} {funcaoDoLugar()}'\n",
        "\n",
        "#nome da função fora dos parênteses, pois ela não é uma string\n",
        "print(falarComAlguemLugar(\"Paulo\", emRecife))\n"
      ],
      "metadata": {
        "colab": {
          "base_uri": "https://localhost:8080/"
        },
        "id": "67cX--npMFgp",
        "outputId": "67bd06a2-6f6a-4340-8ec4-7ef6447a629f"
      },
      "execution_count": null,
      "outputs": [
        {
          "output_type": "stream",
          "name": "stdout",
          "text": [
            "João Ei maaaaah!\n",
            "Paulo Ei Boy!\n"
          ]
        }
      ]
    },
    {
      "cell_type": "code",
      "source": [],
      "metadata": {
        "id": "8A7kkmEBdgaM"
      },
      "execution_count": null,
      "outputs": []
    }
  ]
}